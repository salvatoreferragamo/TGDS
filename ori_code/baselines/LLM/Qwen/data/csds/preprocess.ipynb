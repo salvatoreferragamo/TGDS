{
 "cells": [
  {
   "cell_type": "code",
   "execution_count": 10,
   "metadata": {},
   "outputs": [],
   "source": [
    "import json \n",
    "with open('train.json','r',encoding='utf-8') as r_f:\n",
    "    json_data = json.load(r_f)\n",
    "\n",
    "for id, sample in enumerate(json_data):\n",
    "    with open('csds_train.jsonl', mode='a+', encoding='utf8') as f:\n",
    "        data = {}\n",
    "        data['conversation_id'] = id\n",
    "        data[\"category\"] = \"Sum\"\n",
    "        data[\"language\"] = \"zh\"\n",
    "        data['conversation'] = []\n",
    "        data['conversation'].append({})\n",
    "        dialogue, summary = '请将下述对话总结生成摘要：\\n', ''\n",
    "        for utt in sample['Dialogue']:\n",
    "            if utt['speaker'] == 'Q':\n",
    "                dialogue += '用户：' + utt['utterance'].replace(' ','') + '\\n'\n",
    "            if utt['speaker'] == 'A':\n",
    "                dialogue += '客服：' + utt['utterance'].replace(' ','') + '\\n'\n",
    "        for sum in sample['FinalSumm']:\n",
    "            summary += sum \n",
    "        data['conversation'][0]['human'] = dialogue.strip()\n",
    "        data['conversation'][0]['assistant'] = summary   \n",
    "        json.dump(data, f, ensure_ascii=False)\n",
    "        f.write('\\n')"
   ]
  },
  {
   "cell_type": "code",
   "execution_count": 4,
   "metadata": {},
   "outputs": [
    {
     "data": {
      "text/plain": [
       "{'DialogueID': 3559,\n",
       " 'QRole': '用户',\n",
       " 'QA': [{'QueSumm': '用户询问地址写错怎么处理。',\n",
       "   'AnsSummShort': '客服回答客户提供咨询订单，在确认后发现商品暂未付款，客户修改地址即可。',\n",
       "   'AnsSummLong': '客服回答客户提供咨询订单，在确认后发现商品暂未付款，客户修改地址即可。',\n",
       "   'QueSummUttIDs': [2],\n",
       "   'AnsSummShortUttIDs': [3, 6, 7],\n",
       "   'AnsSummLongUttIDs': [3, 6, 7],\n",
       "   'QASumm': '用户询问地址写错怎么处理。客服回答客户提供咨询订单，在确认后发现商品暂未付款，客户修改地址即可。',\n",
       "   'intent': '修改订单'},\n",
       "  {'QueSumm': '用户询问如果取消订单，使用的券能否退回。',\n",
       "   'AnsSummShort': '客服回答可以退回。在客户取消订单重新拍后，告知用户优惠券京东都已返还。',\n",
       "   'AnsSummLong': '客服回答如果取消订单，使用的券可以退回。在客户取消订单重新拍后，告知用户优惠券京东都已返还。',\n",
       "   'QueSummUttIDs': [9],\n",
       "   'AnsSummShortUttIDs': [16, 10],\n",
       "   'AnsSummLongUttIDs': [16, 9, 10],\n",
       "   'QASumm': '用户询问如果取消订单，使用的券能否退回。客服回答可以退回。在客户取消订单重新拍后，告知用户优惠券京东都已返还。',\n",
       "   'intent': '优惠券退回'}],\n",
       " 'Session_id': '13f09c952fc34164e4e511074c74bcd3',\n",
       " 'Dialogue': [{'speaker': 'Q', 'turn': 0, 'utterance': '配送 咨询'},\n",
       "  {'speaker': 'A',\n",
       "   'turn': 1,\n",
       "   'utterance': '亲亲 ， 有 什么 问题 我 可以 帮 您 处理 或 解决 的 呢 ? '},\n",
       "  {'speaker': 'Q', 'turn': 2, 'utterance': '地址 写错 了'},\n",
       "  {'speaker': 'A',\n",
       "   'turn': 3,\n",
       "   'utterance': '您好 ， APP 端 麻烦 您 点击 对话框 右下角 的 “ + ” ， 点击 “ 订单 ” 后 ， 选择 一下 您 需要 咨询 的 订单 哦 ， PC 端 在 我 的 订单 中 查看 ， 还 请 您 点击 复制 给 我 一下 哈 ， 小妹 这边 帮 您 查询 哦 ~'},\n",
       "  {'speaker': 'A', 'turn': 4, 'utterance': '亲亲   您 的 哪个 订单 写错 地址 了 呀'},\n",
       "  {'speaker': 'Q', 'turn': 5, 'utterance': '[订单编号]'},\n",
       "  {'speaker': 'A', 'turn': 6, 'utterance': '您 这个 还 没有 付款 哦'},\n",
       "  {'speaker': 'A', 'turn': 7, 'utterance': '您 修改 下 地址 就 可以 了 哦'},\n",
       "  {'speaker': 'A', 'turn': 8, 'utterance': '订单 状态 等待 付款'},\n",
       "  {'speaker': 'Q', 'turn': 9, 'utterance': '如果 我 现在 取消 订单 ， 我用 的 劵 还 可以 退回 吗'},\n",
       "  {'speaker': 'A', 'turn': 10, 'utterance': '当然 可以 的 呀'},\n",
       "  {'speaker': 'Q', 'turn': 11, 'utterance': '好 的 ， 我 从 新 拍'},\n",
       "  {'speaker': 'A', 'turn': 12, 'utterance': '会 退回 的 呢'},\n",
       "  {'speaker': 'A', 'turn': 13, 'utterance': '嗯 啦'},\n",
       "  {'speaker': 'A', 'turn': 14, 'utterance': '取消 订单 哦'},\n",
       "  {'speaker': 'A', 'turn': 15, 'utterance': '已经 退 了 哦'},\n",
       "  {'speaker': 'A', 'turn': 16, 'utterance': '您 的 优惠券 京豆 都 已经 返还'},\n",
       "  {'speaker': 'A', 'turn': 17, 'utterance': '您 注意 查收 哈'},\n",
       "  {'speaker': 'Q', 'turn': 18, 'utterance': '好 得'},\n",
       "  {'speaker': 'A', 'turn': 19, 'utterance': '请问 还有 其他 还 可以 帮到 您 的 吗 ?'},\n",
       "  {'speaker': 'Q', 'turn': 20, 'utterance': '没 了 ， 谢谢您'},\n",
       "  {'speaker': 'A',\n",
       "   'turn': 21,\n",
       "   'utterance': '这些 都 是 我们 的 分内之事 ， 您 别 客气 啦 ， 我 也 很 高兴 能 帮 您 这样 有 包容心 、 有 亲和力 的 人 解决问题 呢 ~'},\n",
       "  {'speaker': 'A', 'turn': 22, 'utterance': '感谢您 对 京东 的 支持 ， 祝您 生活 愉快 '}],\n",
       " 'UserSumm': ['用户询问地址写错怎么处理。', '用户询问如果取消订单，使用的券能否退回。'],\n",
       " 'AgentSumm': ['客服回答客户提供咨询订单，在确认后发现商品暂未付款，客户修改地址即可。',\n",
       "  '客服回答如果取消订单，使用的券可以退回。在客户取消订单重新拍后，告知用户优惠券京东都已返还。'],\n",
       " 'FinalSumm': ['用户询问地址写错怎么处理。',\n",
       "  '客服回答客户提供咨询订单，在确认后发现商品暂未付款，客户修改地址即可。',\n",
       "  '用户询问如果取消订单，使用的券能否退回。',\n",
       "  '客服回答可以退回。在客户取消订单重新拍后，告知用户优惠券京东都已返还。']}"
      ]
     },
     "execution_count": 4,
     "metadata": {},
     "output_type": "execute_result"
    }
   ],
   "source": [
    "json_data[0]"
   ]
  },
  {
   "cell_type": "code",
   "execution_count": 12,
   "metadata": {},
   "outputs": [
    {
     "data": {
      "text/plain": [
       "0.17075046698165036"
      ]
     },
     "execution_count": 12,
     "metadata": {},
     "output_type": "execute_result"
    }
   ],
   "source": [
    "# 统计“Topic Recur”的次数：\n",
    "import json \n",
    "with open('train.json','r',encoding='utf-8') as r_f:\n",
    "    json_data = json.load(r_f)\n",
    "\n",
    "total = 0\n",
    "\n",
    "for id, sample in enumerate(json_data):\n",
    "    qa_list = [qa[\"intent\"] for qa in sample[\"QA\"]]\n",
    "    if len(qa_list) != len(list(set(qa_list))):\n",
    "        # print(qa_list)\n",
    "        total +=1\n",
    "    \n",
    "sum = len(json_data)\n",
    "total/sum"
   ]
  }
 ],
 "metadata": {
  "kernelspec": {
   "display_name": "firefly",
   "language": "python",
   "name": "python3"
  },
  "language_info": {
   "codemirror_mode": {
    "name": "ipython",
    "version": 3
   },
   "file_extension": ".py",
   "mimetype": "text/x-python",
   "name": "python",
   "nbconvert_exporter": "python",
   "pygments_lexer": "ipython3",
   "version": "3.8.16"
  }
 },
 "nbformat": 4,
 "nbformat_minor": 2
}
